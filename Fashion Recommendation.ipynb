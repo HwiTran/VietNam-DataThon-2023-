{
 "cells": [
  {
   "cell_type": "markdown",
   "metadata": {
    "id": "vSvsJkkIsF0v"
   },
   "source": [
    "#**NHẬP THƯ VIỆN**"
   ]
  },
  {
   "cell_type": "code",
   "execution_count": null,
   "metadata": {
    "id": "Anim4_fqsc7G"
   },
   "outputs": [],
   "source": [
    "import sys\n",
    "import pandas as pd\n",
    "import numpy as np\n",
    "from PIL import Image\n",
    "\n",
    "from io import BytesIO\n"
   ]
  },
  {
   "cell_type": "markdown",
   "metadata": {
    "id": "R4C-PgfntZQj"
   },
   "source": [
    "#**TẢI DỮ LIỆU**\n",
    "\n"
   ]
  },
  {
   "cell_type": "code",
   "execution_count": null,
   "metadata": {
    "id": "nqps-q19ys-3"
   },
   "outputs": [],
   "source": [
    "#Đọc dữ liệu\n",
    "df = pd.read_excel('extra_adidas_nikes_products_public_data.xlsx')"
   ]
  },
  {
   "cell_type": "code",
   "execution_count": null,
   "metadata": {
    "colab": {
     "base_uri": "https://localhost:8080/",
     "height": 608
    },
    "id": "ITPFpeLV0Hkj",
    "outputId": "1bd68f6a-f41b-459d-acc8-8824fb5a106a"
   },
   "outputs": [
    {
     "data": {
      "text/html": [
       "\n",
       "  <div id=\"df-f0eb10f4-fd6e-4797-ad7a-61e5bdeb5e9b\" class=\"colab-df-container\">\n",
       "    <div>\n",
       "<style scoped>\n",
       "    .dataframe tbody tr th:only-of-type {\n",
       "        vertical-align: middle;\n",
       "    }\n",
       "\n",
       "    .dataframe tbody tr th {\n",
       "        vertical-align: top;\n",
       "    }\n",
       "\n",
       "    .dataframe thead th {\n",
       "        text-align: right;\n",
       "    }\n",
       "</style>\n",
       "<table border=\"1\" class=\"dataframe\">\n",
       "  <thead>\n",
       "    <tr style=\"text-align: right;\">\n",
       "      <th></th>\n",
       "      <th>Unnamed: 0</th>\n",
       "      <th>name</th>\n",
       "      <th>price</th>\n",
       "      <th>description</th>\n",
       "      <th>review_count</th>\n",
       "      <th>avg_rating</th>\n",
       "      <th>scraped_at</th>\n",
       "      <th>color</th>\n",
       "      <th>brand</th>\n",
       "      <th>currency</th>\n",
       "      <th>url</th>\n",
       "      <th>availability</th>\n",
       "      <th>images</th>\n",
       "    </tr>\n",
       "  </thead>\n",
       "  <tbody>\n",
       "    <tr>\n",
       "      <th>0</th>\n",
       "      <td>2572</td>\n",
       "      <td>Adilette Comfort Slides</td>\n",
       "      <td>32.00</td>\n",
       "      <td>Classic sport sandals with a lightweight feel....</td>\n",
       "      <td>11534.0</td>\n",
       "      <td>4.7</td>\n",
       "      <td>12/13/2023 20:47</td>\n",
       "      <td>Core Black / Cloud White / Cloud White</td>\n",
       "      <td>Adidas</td>\n",
       "      <td>USD</td>\n",
       "      <td>https://www.adidas.com/us/adilette-comfort-sli...</td>\n",
       "      <td>INSTOCK</td>\n",
       "      <td>['https://assets.adidas.com/images/w_600,f_aut...</td>\n",
       "    </tr>\n",
       "    <tr>\n",
       "      <th>1</th>\n",
       "      <td>52</td>\n",
       "      <td>Nike Sportswear Swoosh Puffer PrimaLoft®</td>\n",
       "      <td>225.97</td>\n",
       "      <td>Stay warm on the coldest days by bundling up i...</td>\n",
       "      <td>18.0</td>\n",
       "      <td>4,4</td>\n",
       "      <td>2023-12-13</td>\n",
       "      <td>White/Black</td>\n",
       "      <td>Nike</td>\n",
       "      <td>USD</td>\n",
       "      <td>https://www.nike.com/t/sportswear-swoosh-puffe...</td>\n",
       "      <td>InStock</td>\n",
       "      <td>https://static.nike.com/a/images/t_default/e5c...</td>\n",
       "    </tr>\n",
       "    <tr>\n",
       "      <th>2</th>\n",
       "      <td>500</td>\n",
       "      <td>Jordan Artist Series by Jordan Moss</td>\n",
       "      <td>66.97</td>\n",
       "      <td>Jordan Moss is a Brooklyn based illustrator an...</td>\n",
       "      <td>0.0</td>\n",
       "      <td>0</td>\n",
       "      <td>2023-12-14</td>\n",
       "      <td>Dark Driftwood</td>\n",
       "      <td>Nike</td>\n",
       "      <td>USD</td>\n",
       "      <td>https://www.nike.com/t/jordan-artist-series-by...</td>\n",
       "      <td>InStock</td>\n",
       "      <td>https://static.nike.com/a/images/t_default/u_1...</td>\n",
       "    </tr>\n",
       "    <tr>\n",
       "      <th>3</th>\n",
       "      <td>622</td>\n",
       "      <td>X_PLRPHASE Shoes Kids</td>\n",
       "      <td>80.00</td>\n",
       "      <td>Comfortable sneakers made in part with recycle...</td>\n",
       "      <td>53.0</td>\n",
       "      <td>4.6</td>\n",
       "      <td>12/14/2023 0:17</td>\n",
       "      <td>Cloud White / Magic Grey Met / Bliss Lilac</td>\n",
       "      <td>Adidas</td>\n",
       "      <td>USD</td>\n",
       "      <td>https://www.adidas.com/us/x_plrphase-shoes-kid...</td>\n",
       "      <td>INSTOCK</td>\n",
       "      <td>['https://assets.adidas.com/images/w_600,f_aut...</td>\n",
       "    </tr>\n",
       "    <tr>\n",
       "      <th>4</th>\n",
       "      <td>1681</td>\n",
       "      <td>Gazelle Bold Shoes</td>\n",
       "      <td>120.00</td>\n",
       "      <td>A platform shoe that adds modern looks to an i...</td>\n",
       "      <td>408.0</td>\n",
       "      <td>4.6</td>\n",
       "      <td>12/13/2023 19:45</td>\n",
       "      <td>Cloud White / Cloud White / Cloud White</td>\n",
       "      <td>Adidas</td>\n",
       "      <td>USD</td>\n",
       "      <td>https://www.adidas.com/us/gazelle-bold-shoes/I...</td>\n",
       "      <td>INSTOCK</td>\n",
       "      <td>['https://assets.adidas.com/images/w_600,f_aut...</td>\n",
       "    </tr>\n",
       "  </tbody>\n",
       "</table>\n",
       "</div>\n",
       "    <div class=\"colab-df-buttons\">\n",
       "\n",
       "  <div class=\"colab-df-container\">\n",
       "    <button class=\"colab-df-convert\" onclick=\"convertToInteractive('df-f0eb10f4-fd6e-4797-ad7a-61e5bdeb5e9b')\"\n",
       "            title=\"Convert this dataframe to an interactive table.\"\n",
       "            style=\"display:none;\">\n",
       "\n",
       "  <svg xmlns=\"http://www.w3.org/2000/svg\" height=\"24px\" viewBox=\"0 -960 960 960\">\n",
       "    <path d=\"M120-120v-720h720v720H120Zm60-500h600v-160H180v160Zm220 220h160v-160H400v160Zm0 220h160v-160H400v160ZM180-400h160v-160H180v160Zm440 0h160v-160H620v160ZM180-180h160v-160H180v160Zm440 0h160v-160H620v160Z\"/>\n",
       "  </svg>\n",
       "    </button>\n",
       "\n",
       "  <style>\n",
       "    .colab-df-container {\n",
       "      display:flex;\n",
       "      gap: 12px;\n",
       "    }\n",
       "\n",
       "    .colab-df-convert {\n",
       "      background-color: #E8F0FE;\n",
       "      border: none;\n",
       "      border-radius: 50%;\n",
       "      cursor: pointer;\n",
       "      display: none;\n",
       "      fill: #1967D2;\n",
       "      height: 32px;\n",
       "      padding: 0 0 0 0;\n",
       "      width: 32px;\n",
       "    }\n",
       "\n",
       "    .colab-df-convert:hover {\n",
       "      background-color: #E2EBFA;\n",
       "      box-shadow: 0px 1px 2px rgba(60, 64, 67, 0.3), 0px 1px 3px 1px rgba(60, 64, 67, 0.15);\n",
       "      fill: #174EA6;\n",
       "    }\n",
       "\n",
       "    .colab-df-buttons div {\n",
       "      margin-bottom: 4px;\n",
       "    }\n",
       "\n",
       "    [theme=dark] .colab-df-convert {\n",
       "      background-color: #3B4455;\n",
       "      fill: #D2E3FC;\n",
       "    }\n",
       "\n",
       "    [theme=dark] .colab-df-convert:hover {\n",
       "      background-color: #434B5C;\n",
       "      box-shadow: 0px 1px 3px 1px rgba(0, 0, 0, 0.15);\n",
       "      filter: drop-shadow(0px 1px 2px rgba(0, 0, 0, 0.3));\n",
       "      fill: #FFFFFF;\n",
       "    }\n",
       "  </style>\n",
       "\n",
       "    <script>\n",
       "      const buttonEl =\n",
       "        document.querySelector('#df-f0eb10f4-fd6e-4797-ad7a-61e5bdeb5e9b button.colab-df-convert');\n",
       "      buttonEl.style.display =\n",
       "        google.colab.kernel.accessAllowed ? 'block' : 'none';\n",
       "\n",
       "      async function convertToInteractive(key) {\n",
       "        const element = document.querySelector('#df-f0eb10f4-fd6e-4797-ad7a-61e5bdeb5e9b');\n",
       "        const dataTable =\n",
       "          await google.colab.kernel.invokeFunction('convertToInteractive',\n",
       "                                                    [key], {});\n",
       "        if (!dataTable) return;\n",
       "\n",
       "        const docLinkHtml = 'Like what you see? Visit the ' +\n",
       "          '<a target=\"_blank\" href=https://colab.research.google.com/notebooks/data_table.ipynb>data table notebook</a>'\n",
       "          + ' to learn more about interactive tables.';\n",
       "        element.innerHTML = '';\n",
       "        dataTable['output_type'] = 'display_data';\n",
       "        await google.colab.output.renderOutput(dataTable, element);\n",
       "        const docLink = document.createElement('div');\n",
       "        docLink.innerHTML = docLinkHtml;\n",
       "        element.appendChild(docLink);\n",
       "      }\n",
       "    </script>\n",
       "  </div>\n",
       "\n",
       "\n",
       "<div id=\"df-8c51ad98-eed1-468e-89c3-0e4006ef08b4\">\n",
       "  <button class=\"colab-df-quickchart\" onclick=\"quickchart('df-8c51ad98-eed1-468e-89c3-0e4006ef08b4')\"\n",
       "            title=\"Suggest charts\"\n",
       "            style=\"display:none;\">\n",
       "\n",
       "<svg xmlns=\"http://www.w3.org/2000/svg\" height=\"24px\"viewBox=\"0 0 24 24\"\n",
       "     width=\"24px\">\n",
       "    <g>\n",
       "        <path d=\"M19 3H5c-1.1 0-2 .9-2 2v14c0 1.1.9 2 2 2h14c1.1 0 2-.9 2-2V5c0-1.1-.9-2-2-2zM9 17H7v-7h2v7zm4 0h-2V7h2v10zm4 0h-2v-4h2v4z\"/>\n",
       "    </g>\n",
       "</svg>\n",
       "  </button>\n",
       "\n",
       "<style>\n",
       "  .colab-df-quickchart {\n",
       "      --bg-color: #E8F0FE;\n",
       "      --fill-color: #1967D2;\n",
       "      --hover-bg-color: #E2EBFA;\n",
       "      --hover-fill-color: #174EA6;\n",
       "      --disabled-fill-color: #AAA;\n",
       "      --disabled-bg-color: #DDD;\n",
       "  }\n",
       "\n",
       "  [theme=dark] .colab-df-quickchart {\n",
       "      --bg-color: #3B4455;\n",
       "      --fill-color: #D2E3FC;\n",
       "      --hover-bg-color: #434B5C;\n",
       "      --hover-fill-color: #FFFFFF;\n",
       "      --disabled-bg-color: #3B4455;\n",
       "      --disabled-fill-color: #666;\n",
       "  }\n",
       "\n",
       "  .colab-df-quickchart {\n",
       "    background-color: var(--bg-color);\n",
       "    border: none;\n",
       "    border-radius: 50%;\n",
       "    cursor: pointer;\n",
       "    display: none;\n",
       "    fill: var(--fill-color);\n",
       "    height: 32px;\n",
       "    padding: 0;\n",
       "    width: 32px;\n",
       "  }\n",
       "\n",
       "  .colab-df-quickchart:hover {\n",
       "    background-color: var(--hover-bg-color);\n",
       "    box-shadow: 0 1px 2px rgba(60, 64, 67, 0.3), 0 1px 3px 1px rgba(60, 64, 67, 0.15);\n",
       "    fill: var(--button-hover-fill-color);\n",
       "  }\n",
       "\n",
       "  .colab-df-quickchart-complete:disabled,\n",
       "  .colab-df-quickchart-complete:disabled:hover {\n",
       "    background-color: var(--disabled-bg-color);\n",
       "    fill: var(--disabled-fill-color);\n",
       "    box-shadow: none;\n",
       "  }\n",
       "\n",
       "  .colab-df-spinner {\n",
       "    border: 2px solid var(--fill-color);\n",
       "    border-color: transparent;\n",
       "    border-bottom-color: var(--fill-color);\n",
       "    animation:\n",
       "      spin 1s steps(1) infinite;\n",
       "  }\n",
       "\n",
       "  @keyframes spin {\n",
       "    0% {\n",
       "      border-color: transparent;\n",
       "      border-bottom-color: var(--fill-color);\n",
       "      border-left-color: var(--fill-color);\n",
       "    }\n",
       "    20% {\n",
       "      border-color: transparent;\n",
       "      border-left-color: var(--fill-color);\n",
       "      border-top-color: var(--fill-color);\n",
       "    }\n",
       "    30% {\n",
       "      border-color: transparent;\n",
       "      border-left-color: var(--fill-color);\n",
       "      border-top-color: var(--fill-color);\n",
       "      border-right-color: var(--fill-color);\n",
       "    }\n",
       "    40% {\n",
       "      border-color: transparent;\n",
       "      border-right-color: var(--fill-color);\n",
       "      border-top-color: var(--fill-color);\n",
       "    }\n",
       "    60% {\n",
       "      border-color: transparent;\n",
       "      border-right-color: var(--fill-color);\n",
       "    }\n",
       "    80% {\n",
       "      border-color: transparent;\n",
       "      border-right-color: var(--fill-color);\n",
       "      border-bottom-color: var(--fill-color);\n",
       "    }\n",
       "    90% {\n",
       "      border-color: transparent;\n",
       "      border-bottom-color: var(--fill-color);\n",
       "    }\n",
       "  }\n",
       "</style>\n",
       "\n",
       "  <script>\n",
       "    async function quickchart(key) {\n",
       "      const quickchartButtonEl =\n",
       "        document.querySelector('#' + key + ' button');\n",
       "      quickchartButtonEl.disabled = true;  // To prevent multiple clicks.\n",
       "      quickchartButtonEl.classList.add('colab-df-spinner');\n",
       "      try {\n",
       "        const charts = await google.colab.kernel.invokeFunction(\n",
       "            'suggestCharts', [key], {});\n",
       "      } catch (error) {\n",
       "        console.error('Error during call to suggestCharts:', error);\n",
       "      }\n",
       "      quickchartButtonEl.classList.remove('colab-df-spinner');\n",
       "      quickchartButtonEl.classList.add('colab-df-quickchart-complete');\n",
       "    }\n",
       "    (() => {\n",
       "      let quickchartButtonEl =\n",
       "        document.querySelector('#df-8c51ad98-eed1-468e-89c3-0e4006ef08b4 button');\n",
       "      quickchartButtonEl.style.display =\n",
       "        google.colab.kernel.accessAllowed ? 'block' : 'none';\n",
       "    })();\n",
       "  </script>\n",
       "</div>\n",
       "\n",
       "    </div>\n",
       "  </div>\n"
      ],
      "text/plain": [
       "   Unnamed: 0                                      name   price  \\\n",
       "0        2572                   Adilette Comfort Slides   32.00   \n",
       "1          52  Nike Sportswear Swoosh Puffer PrimaLoft®  225.97   \n",
       "2         500       Jordan Artist Series by Jordan Moss   66.97   \n",
       "3         622                     X_PLRPHASE Shoes Kids   80.00   \n",
       "4        1681                        Gazelle Bold Shoes  120.00   \n",
       "\n",
       "                                         description  review_count avg_rating  \\\n",
       "0  Classic sport sandals with a lightweight feel....       11534.0        4.7   \n",
       "1  Stay warm on the coldest days by bundling up i...          18.0        4,4   \n",
       "2  Jordan Moss is a Brooklyn based illustrator an...           0.0          0   \n",
       "3  Comfortable sneakers made in part with recycle...          53.0        4.6   \n",
       "4  A platform shoe that adds modern looks to an i...         408.0        4.6   \n",
       "\n",
       "         scraped_at                                       color   brand  \\\n",
       "0  12/13/2023 20:47      Core Black / Cloud White / Cloud White  Adidas   \n",
       "1        2023-12-13                                 White/Black    Nike   \n",
       "2        2023-12-14                              Dark Driftwood    Nike   \n",
       "3   12/14/2023 0:17  Cloud White / Magic Grey Met / Bliss Lilac  Adidas   \n",
       "4  12/13/2023 19:45     Cloud White / Cloud White / Cloud White  Adidas   \n",
       "\n",
       "  currency                                                url availability  \\\n",
       "0      USD  https://www.adidas.com/us/adilette-comfort-sli...      INSTOCK   \n",
       "1      USD  https://www.nike.com/t/sportswear-swoosh-puffe...      InStock   \n",
       "2      USD  https://www.nike.com/t/jordan-artist-series-by...      InStock   \n",
       "3      USD  https://www.adidas.com/us/x_plrphase-shoes-kid...      INSTOCK   \n",
       "4      USD  https://www.adidas.com/us/gazelle-bold-shoes/I...      INSTOCK   \n",
       "\n",
       "                                              images  \n",
       "0  ['https://assets.adidas.com/images/w_600,f_aut...  \n",
       "1  https://static.nike.com/a/images/t_default/e5c...  \n",
       "2  https://static.nike.com/a/images/t_default/u_1...  \n",
       "3  ['https://assets.adidas.com/images/w_600,f_aut...  \n",
       "4  ['https://assets.adidas.com/images/w_600,f_aut...  "
      ]
     },
     "execution_count": 5,
     "metadata": {},
     "output_type": "execute_result"
    }
   ],
   "source": [
    "# 5 giá trị đầu tiên của dataframe\n",
    "df.head(5)"
   ]
  },
  {
   "cell_type": "code",
   "execution_count": null,
   "metadata": {
    "colab": {
     "base_uri": "https://localhost:8080/"
    },
    "id": "txbMdcdQ0JmK",
    "outputId": "5de33151-646d-4bb2-f8aa-6af741155a12"
   },
   "outputs": [
    {
     "name": "stdout",
     "output_type": "stream",
     "text": [
      "<class 'pandas.core.frame.DataFrame'>\n",
      "RangeIndex: 6272 entries, 0 to 6271\n",
      "Data columns (total 13 columns):\n",
      " #   Column        Non-Null Count  Dtype  \n",
      "---  ------        --------------  -----  \n",
      " 0   Unnamed: 0    6272 non-null   int64  \n",
      " 1   name          6209 non-null   object \n",
      " 2   price         6075 non-null   float64\n",
      " 3   description   6047 non-null   object \n",
      " 4   review_count  5541 non-null   float64\n",
      " 5   avg_rating    5541 non-null   object \n",
      " 6   scraped_at    6272 non-null   object \n",
      " 7   color         6075 non-null   object \n",
      " 8   brand         6272 non-null   object \n",
      " 9   currency      6272 non-null   object \n",
      " 10  url           6272 non-null   object \n",
      " 11  availability  6272 non-null   object \n",
      " 12  images        6219 non-null   object \n",
      "dtypes: float64(2), int64(1), object(10)\n",
      "memory usage: 637.1+ KB\n"
     ]
    }
   ],
   "source": [
    "#Thông tin tổng quát Dataframe\n",
    "df.info()"
   ]
  },
  {
   "cell_type": "code",
   "execution_count": null,
   "metadata": {
    "colab": {
     "base_uri": "https://localhost:8080/"
    },
    "id": "dfud_kP90VaZ",
    "outputId": "c9708847-3688-4e37-978d-d9d106fb3cef"
   },
   "outputs": [
    {
     "data": {
      "text/plain": [
       "Index(['Unnamed: 0', 'name', 'price', 'description', 'review_count',\n",
       "       'avg_rating', 'scraped_at', 'color', 'brand', 'currency', 'url',\n",
       "       'availability', 'images'],\n",
       "      dtype='object')"
      ]
     },
     "execution_count": 7,
     "metadata": {},
     "output_type": "execute_result"
    }
   ],
   "source": [
    "#Các cột của dataframe\n",
    "df.columns"
   ]
  },
  {
   "cell_type": "code",
   "execution_count": null,
   "metadata": {
    "id": "2i3WATAq1moT"
   },
   "outputs": [],
   "source": [
    "#Đổi tên cột Unnamed thành ID\n",
    "df.rename(columns={'Unnamed: 0': 'ID'}, inplace=True)"
   ]
  },
  {
   "cell_type": "code",
   "execution_count": null,
   "metadata": {
    "id": "aSyAJgcT1q2N"
   },
   "outputs": [],
   "source": [
    "#Gom 2 cột \"color\" và \"description\" lại thành 1 thuộc tính\n",
    "df['description'] = 'Color of product: ' + df['color'].astype(str) + '. ' + df['description']"
   ]
  },
  {
   "cell_type": "code",
   "execution_count": null,
   "metadata": {
    "colab": {
     "base_uri": "https://localhost:8080/",
     "height": 70
    },
    "id": "Sc65OUAgjcAY",
    "outputId": "624cf7b9-f2f4-4d56-a75f-049f3a5d2310"
   },
   "outputs": [
    {
     "data": {
      "application/vnd.google.colaboratory.intrinsic+json": {
       "type": "string"
      },
      "text/plain": [
       "'Color of product: Core Black / Cloud White / Cloud White. Classic sport sandals with a lightweight feel.The Adilette has been a favorite of beachgoers and poolside loungers since 1972. An embossed adidas Badge of Sport print on the soft bandage upper gives this version of the iconic slides a sporty feel. The contoured footbed delivers the stability the slides are famous for.'"
      ]
     },
     "execution_count": 10,
     "metadata": {},
     "output_type": "execute_result"
    }
   ],
   "source": [
    "df['description'][0]"
   ]
  },
  {
   "cell_type": "code",
   "execution_count": null,
   "metadata": {
    "id": "mMRm1Qww7o4Y"
   },
   "outputs": [],
   "source": [
    "# Bỏ bớt các cột không cần thiết\n",
    "df = df.drop(columns=['price', 'review_count', 'avg_rating', 'scraped_at', 'color', 'brand', 'currency', 'availability'])"
   ]
  },
  {
   "cell_type": "code",
   "execution_count": null,
   "metadata": {
    "colab": {
     "base_uri": "https://localhost:8080/",
     "height": 293
    },
    "id": "v_juONCo8FN3",
    "outputId": "26389875-61f2-4620-c9a0-4fc17a941070"
   },
   "outputs": [
    {
     "data": {
      "text/html": [
       "\n",
       "  <div id=\"df-65675aac-baf4-4eb0-8238-afb5a56d1e69\" class=\"colab-df-container\">\n",
       "    <div>\n",
       "<style scoped>\n",
       "    .dataframe tbody tr th:only-of-type {\n",
       "        vertical-align: middle;\n",
       "    }\n",
       "\n",
       "    .dataframe tbody tr th {\n",
       "        vertical-align: top;\n",
       "    }\n",
       "\n",
       "    .dataframe thead th {\n",
       "        text-align: right;\n",
       "    }\n",
       "</style>\n",
       "<table border=\"1\" class=\"dataframe\">\n",
       "  <thead>\n",
       "    <tr style=\"text-align: right;\">\n",
       "      <th></th>\n",
       "      <th>ID</th>\n",
       "      <th>name</th>\n",
       "      <th>description</th>\n",
       "      <th>url</th>\n",
       "      <th>images</th>\n",
       "    </tr>\n",
       "  </thead>\n",
       "  <tbody>\n",
       "    <tr>\n",
       "      <th>0</th>\n",
       "      <td>2572</td>\n",
       "      <td>Adilette Comfort Slides</td>\n",
       "      <td>Color of product: Core Black / Cloud White / C...</td>\n",
       "      <td>https://www.adidas.com/us/adilette-comfort-sli...</td>\n",
       "      <td>['https://assets.adidas.com/images/w_600,f_aut...</td>\n",
       "    </tr>\n",
       "    <tr>\n",
       "      <th>1</th>\n",
       "      <td>52</td>\n",
       "      <td>Nike Sportswear Swoosh Puffer PrimaLoft®</td>\n",
       "      <td>Color of product: White/Black. Stay warm on th...</td>\n",
       "      <td>https://www.nike.com/t/sportswear-swoosh-puffe...</td>\n",
       "      <td>https://static.nike.com/a/images/t_default/e5c...</td>\n",
       "    </tr>\n",
       "    <tr>\n",
       "      <th>2</th>\n",
       "      <td>500</td>\n",
       "      <td>Jordan Artist Series by Jordan Moss</td>\n",
       "      <td>Color of product: Dark Driftwood. Jordan Moss ...</td>\n",
       "      <td>https://www.nike.com/t/jordan-artist-series-by...</td>\n",
       "      <td>https://static.nike.com/a/images/t_default/u_1...</td>\n",
       "    </tr>\n",
       "    <tr>\n",
       "      <th>3</th>\n",
       "      <td>622</td>\n",
       "      <td>X_PLRPHASE Shoes Kids</td>\n",
       "      <td>Color of product: Cloud White / Magic Grey Met...</td>\n",
       "      <td>https://www.adidas.com/us/x_plrphase-shoes-kid...</td>\n",
       "      <td>['https://assets.adidas.com/images/w_600,f_aut...</td>\n",
       "    </tr>\n",
       "    <tr>\n",
       "      <th>4</th>\n",
       "      <td>1681</td>\n",
       "      <td>Gazelle Bold Shoes</td>\n",
       "      <td>Color of product: Cloud White / Cloud White / ...</td>\n",
       "      <td>https://www.adidas.com/us/gazelle-bold-shoes/I...</td>\n",
       "      <td>['https://assets.adidas.com/images/w_600,f_aut...</td>\n",
       "    </tr>\n",
       "  </tbody>\n",
       "</table>\n",
       "</div>\n",
       "    <div class=\"colab-df-buttons\">\n",
       "\n",
       "  <div class=\"colab-df-container\">\n",
       "    <button class=\"colab-df-convert\" onclick=\"convertToInteractive('df-65675aac-baf4-4eb0-8238-afb5a56d1e69')\"\n",
       "            title=\"Convert this dataframe to an interactive table.\"\n",
       "            style=\"display:none;\">\n",
       "\n",
       "  <svg xmlns=\"http://www.w3.org/2000/svg\" height=\"24px\" viewBox=\"0 -960 960 960\">\n",
       "    <path d=\"M120-120v-720h720v720H120Zm60-500h600v-160H180v160Zm220 220h160v-160H400v160Zm0 220h160v-160H400v160ZM180-400h160v-160H180v160Zm440 0h160v-160H620v160ZM180-180h160v-160H180v160Zm440 0h160v-160H620v160Z\"/>\n",
       "  </svg>\n",
       "    </button>\n",
       "\n",
       "  <style>\n",
       "    .colab-df-container {\n",
       "      display:flex;\n",
       "      gap: 12px;\n",
       "    }\n",
       "\n",
       "    .colab-df-convert {\n",
       "      background-color: #E8F0FE;\n",
       "      border: none;\n",
       "      border-radius: 50%;\n",
       "      cursor: pointer;\n",
       "      display: none;\n",
       "      fill: #1967D2;\n",
       "      height: 32px;\n",
       "      padding: 0 0 0 0;\n",
       "      width: 32px;\n",
       "    }\n",
       "\n",
       "    .colab-df-convert:hover {\n",
       "      background-color: #E2EBFA;\n",
       "      box-shadow: 0px 1px 2px rgba(60, 64, 67, 0.3), 0px 1px 3px 1px rgba(60, 64, 67, 0.15);\n",
       "      fill: #174EA6;\n",
       "    }\n",
       "\n",
       "    .colab-df-buttons div {\n",
       "      margin-bottom: 4px;\n",
       "    }\n",
       "\n",
       "    [theme=dark] .colab-df-convert {\n",
       "      background-color: #3B4455;\n",
       "      fill: #D2E3FC;\n",
       "    }\n",
       "\n",
       "    [theme=dark] .colab-df-convert:hover {\n",
       "      background-color: #434B5C;\n",
       "      box-shadow: 0px 1px 3px 1px rgba(0, 0, 0, 0.15);\n",
       "      filter: drop-shadow(0px 1px 2px rgba(0, 0, 0, 0.3));\n",
       "      fill: #FFFFFF;\n",
       "    }\n",
       "  </style>\n",
       "\n",
       "    <script>\n",
       "      const buttonEl =\n",
       "        document.querySelector('#df-65675aac-baf4-4eb0-8238-afb5a56d1e69 button.colab-df-convert');\n",
       "      buttonEl.style.display =\n",
       "        google.colab.kernel.accessAllowed ? 'block' : 'none';\n",
       "\n",
       "      async function convertToInteractive(key) {\n",
       "        const element = document.querySelector('#df-65675aac-baf4-4eb0-8238-afb5a56d1e69');\n",
       "        const dataTable =\n",
       "          await google.colab.kernel.invokeFunction('convertToInteractive',\n",
       "                                                    [key], {});\n",
       "        if (!dataTable) return;\n",
       "\n",
       "        const docLinkHtml = 'Like what you see? Visit the ' +\n",
       "          '<a target=\"_blank\" href=https://colab.research.google.com/notebooks/data_table.ipynb>data table notebook</a>'\n",
       "          + ' to learn more about interactive tables.';\n",
       "        element.innerHTML = '';\n",
       "        dataTable['output_type'] = 'display_data';\n",
       "        await google.colab.output.renderOutput(dataTable, element);\n",
       "        const docLink = document.createElement('div');\n",
       "        docLink.innerHTML = docLinkHtml;\n",
       "        element.appendChild(docLink);\n",
       "      }\n",
       "    </script>\n",
       "  </div>\n",
       "\n",
       "\n",
       "<div id=\"df-3aec5fca-116f-4015-a8fd-0f555a004a0a\">\n",
       "  <button class=\"colab-df-quickchart\" onclick=\"quickchart('df-3aec5fca-116f-4015-a8fd-0f555a004a0a')\"\n",
       "            title=\"Suggest charts\"\n",
       "            style=\"display:none;\">\n",
       "\n",
       "<svg xmlns=\"http://www.w3.org/2000/svg\" height=\"24px\"viewBox=\"0 0 24 24\"\n",
       "     width=\"24px\">\n",
       "    <g>\n",
       "        <path d=\"M19 3H5c-1.1 0-2 .9-2 2v14c0 1.1.9 2 2 2h14c1.1 0 2-.9 2-2V5c0-1.1-.9-2-2-2zM9 17H7v-7h2v7zm4 0h-2V7h2v10zm4 0h-2v-4h2v4z\"/>\n",
       "    </g>\n",
       "</svg>\n",
       "  </button>\n",
       "\n",
       "<style>\n",
       "  .colab-df-quickchart {\n",
       "      --bg-color: #E8F0FE;\n",
       "      --fill-color: #1967D2;\n",
       "      --hover-bg-color: #E2EBFA;\n",
       "      --hover-fill-color: #174EA6;\n",
       "      --disabled-fill-color: #AAA;\n",
       "      --disabled-bg-color: #DDD;\n",
       "  }\n",
       "\n",
       "  [theme=dark] .colab-df-quickchart {\n",
       "      --bg-color: #3B4455;\n",
       "      --fill-color: #D2E3FC;\n",
       "      --hover-bg-color: #434B5C;\n",
       "      --hover-fill-color: #FFFFFF;\n",
       "      --disabled-bg-color: #3B4455;\n",
       "      --disabled-fill-color: #666;\n",
       "  }\n",
       "\n",
       "  .colab-df-quickchart {\n",
       "    background-color: var(--bg-color);\n",
       "    border: none;\n",
       "    border-radius: 50%;\n",
       "    cursor: pointer;\n",
       "    display: none;\n",
       "    fill: var(--fill-color);\n",
       "    height: 32px;\n",
       "    padding: 0;\n",
       "    width: 32px;\n",
       "  }\n",
       "\n",
       "  .colab-df-quickchart:hover {\n",
       "    background-color: var(--hover-bg-color);\n",
       "    box-shadow: 0 1px 2px rgba(60, 64, 67, 0.3), 0 1px 3px 1px rgba(60, 64, 67, 0.15);\n",
       "    fill: var(--button-hover-fill-color);\n",
       "  }\n",
       "\n",
       "  .colab-df-quickchart-complete:disabled,\n",
       "  .colab-df-quickchart-complete:disabled:hover {\n",
       "    background-color: var(--disabled-bg-color);\n",
       "    fill: var(--disabled-fill-color);\n",
       "    box-shadow: none;\n",
       "  }\n",
       "\n",
       "  .colab-df-spinner {\n",
       "    border: 2px solid var(--fill-color);\n",
       "    border-color: transparent;\n",
       "    border-bottom-color: var(--fill-color);\n",
       "    animation:\n",
       "      spin 1s steps(1) infinite;\n",
       "  }\n",
       "\n",
       "  @keyframes spin {\n",
       "    0% {\n",
       "      border-color: transparent;\n",
       "      border-bottom-color: var(--fill-color);\n",
       "      border-left-color: var(--fill-color);\n",
       "    }\n",
       "    20% {\n",
       "      border-color: transparent;\n",
       "      border-left-color: var(--fill-color);\n",
       "      border-top-color: var(--fill-color);\n",
       "    }\n",
       "    30% {\n",
       "      border-color: transparent;\n",
       "      border-left-color: var(--fill-color);\n",
       "      border-top-color: var(--fill-color);\n",
       "      border-right-color: var(--fill-color);\n",
       "    }\n",
       "    40% {\n",
       "      border-color: transparent;\n",
       "      border-right-color: var(--fill-color);\n",
       "      border-top-color: var(--fill-color);\n",
       "    }\n",
       "    60% {\n",
       "      border-color: transparent;\n",
       "      border-right-color: var(--fill-color);\n",
       "    }\n",
       "    80% {\n",
       "      border-color: transparent;\n",
       "      border-right-color: var(--fill-color);\n",
       "      border-bottom-color: var(--fill-color);\n",
       "    }\n",
       "    90% {\n",
       "      border-color: transparent;\n",
       "      border-bottom-color: var(--fill-color);\n",
       "    }\n",
       "  }\n",
       "</style>\n",
       "\n",
       "  <script>\n",
       "    async function quickchart(key) {\n",
       "      const quickchartButtonEl =\n",
       "        document.querySelector('#' + key + ' button');\n",
       "      quickchartButtonEl.disabled = true;  // To prevent multiple clicks.\n",
       "      quickchartButtonEl.classList.add('colab-df-spinner');\n",
       "      try {\n",
       "        const charts = await google.colab.kernel.invokeFunction(\n",
       "            'suggestCharts', [key], {});\n",
       "      } catch (error) {\n",
       "        console.error('Error during call to suggestCharts:', error);\n",
       "      }\n",
       "      quickchartButtonEl.classList.remove('colab-df-spinner');\n",
       "      quickchartButtonEl.classList.add('colab-df-quickchart-complete');\n",
       "    }\n",
       "    (() => {\n",
       "      let quickchartButtonEl =\n",
       "        document.querySelector('#df-3aec5fca-116f-4015-a8fd-0f555a004a0a button');\n",
       "      quickchartButtonEl.style.display =\n",
       "        google.colab.kernel.accessAllowed ? 'block' : 'none';\n",
       "    })();\n",
       "  </script>\n",
       "</div>\n",
       "\n",
       "    </div>\n",
       "  </div>\n"
      ],
      "text/plain": [
       "     ID                                      name  \\\n",
       "0  2572                   Adilette Comfort Slides   \n",
       "1    52  Nike Sportswear Swoosh Puffer PrimaLoft®   \n",
       "2   500       Jordan Artist Series by Jordan Moss   \n",
       "3   622                     X_PLRPHASE Shoes Kids   \n",
       "4  1681                        Gazelle Bold Shoes   \n",
       "\n",
       "                                         description  \\\n",
       "0  Color of product: Core Black / Cloud White / C...   \n",
       "1  Color of product: White/Black. Stay warm on th...   \n",
       "2  Color of product: Dark Driftwood. Jordan Moss ...   \n",
       "3  Color of product: Cloud White / Magic Grey Met...   \n",
       "4  Color of product: Cloud White / Cloud White / ...   \n",
       "\n",
       "                                                 url  \\\n",
       "0  https://www.adidas.com/us/adilette-comfort-sli...   \n",
       "1  https://www.nike.com/t/sportswear-swoosh-puffe...   \n",
       "2  https://www.nike.com/t/jordan-artist-series-by...   \n",
       "3  https://www.adidas.com/us/x_plrphase-shoes-kid...   \n",
       "4  https://www.adidas.com/us/gazelle-bold-shoes/I...   \n",
       "\n",
       "                                              images  \n",
       "0  ['https://assets.adidas.com/images/w_600,f_aut...  \n",
       "1  https://static.nike.com/a/images/t_default/e5c...  \n",
       "2  https://static.nike.com/a/images/t_default/u_1...  \n",
       "3  ['https://assets.adidas.com/images/w_600,f_aut...  \n",
       "4  ['https://assets.adidas.com/images/w_600,f_aut...  "
      ]
     },
     "execution_count": 12,
     "metadata": {},
     "output_type": "execute_result"
    }
   ],
   "source": [
    "df.head(5)"
   ]
  },
  {
   "cell_type": "markdown",
   "metadata": {
    "id": "f4RKTNho9zXI"
   },
   "source": [
    "#**TIỀN XỬ LÝ DỮ LIỆU**"
   ]
  },
  {
   "cell_type": "code",
   "execution_count": null,
   "metadata": {
    "id": "ngY9JR728IAq"
   },
   "outputs": [],
   "source": [
    "#Bỏ các dòng có giá trị null trong Dataframe\n",
    "df = df.dropna()\n",
    "\n",
    "#Bỏ các dòng trùng lặp\n",
    "df = df.drop_duplicates()"
   ]
  },
  {
   "cell_type": "code",
   "execution_count": null,
   "metadata": {
    "colab": {
     "base_uri": "https://localhost:8080/"
    },
    "id": "IDnexQra-jMS",
    "outputId": "ed4cbd5c-90a9-4079-b9d5-453b299b9ec0"
   },
   "outputs": [
    {
     "name": "stdout",
     "output_type": "stream",
     "text": [
      "<class 'pandas.core.frame.DataFrame'>\n",
      "Int64Index: 5918 entries, 0 to 6271\n",
      "Data columns (total 5 columns):\n",
      " #   Column       Non-Null Count  Dtype \n",
      "---  ------       --------------  ----- \n",
      " 0   ID           5918 non-null   int64 \n",
      " 1   name         5918 non-null   object\n",
      " 2   description  5918 non-null   object\n",
      " 3   url          5918 non-null   object\n",
      " 4   images       5918 non-null   object\n",
      "dtypes: int64(1), object(4)\n",
      "memory usage: 277.4+ KB\n"
     ]
    }
   ],
   "source": [
    "#Kiểm tra còn giá trị null trong dataframe hay không\n",
    "df.info()"
   ]
  },
  {
   "cell_type": "code",
   "execution_count": null,
   "metadata": {
    "colab": {
     "base_uri": "https://localhost:8080/"
    },
    "id": "wxtVP5nh_I2u",
    "outputId": "b875c12a-f77c-4fd7-9996-96bdc1502b6f"
   },
   "outputs": [
    {
     "name": "stdout",
     "output_type": "stream",
     "text": [
      "No duplicates found.\n"
     ]
    }
   ],
   "source": [
    "#Kiểm tra xem có giá trị trùng lặp hay không\n",
    "check_duplicates = lambda df: df[df.duplicated()]\n",
    "\n",
    "duplicates = check_duplicates(df)\n",
    "\n",
    "if duplicates.empty:\n",
    "    print(\"No duplicates found.\")\n",
    "else:\n",
    "    print(\"Duplicates in:\")\n",
    "    print(duplicates)"
   ]
  },
  {
   "cell_type": "markdown",
   "metadata": {
    "id": "ii3yqBrYAKjO"
   },
   "source": [
    "##**TEXT PROCESSCING**"
   ]
  },
  {
   "cell_type": "code",
   "execution_count": null,
   "metadata": {
    "colab": {
     "base_uri": "https://localhost:8080/",
     "height": 70
    },
    "id": "srgi7-WS_Mrd",
    "outputId": "41a3e160-6e14-4583-e126-f57ffdd39074"
   },
   "outputs": [
    {
     "data": {
      "application/vnd.google.colaboratory.intrinsic+json": {
       "type": "string"
      },
      "text/plain": [
       "'Color of product: Core Black / Cloud White / Cloud White. Classic sport sandals with a lightweight feel.The Adilette has been a favorite of beachgoers and poolside loungers since 1972. An embossed adidas Badge of Sport print on the soft bandage upper gives this version of the iconic slides a sporty feel. The contoured footbed delivers the stability the slides are famous for.'"
      ]
     },
     "execution_count": 17,
     "metadata": {},
     "output_type": "execute_result"
    }
   ],
   "source": [
    "df['description'][0]"
   ]
  },
  {
   "cell_type": "markdown",
   "metadata": {
    "id": "z_CJohTZCknL"
   },
   "source": [
    "###**Nhập thư viện xử lý văn bản**"
   ]
  },
  {
   "cell_type": "code",
   "execution_count": null,
   "metadata": {
    "id": "jRP807YBAtH9"
   },
   "outputs": [],
   "source": [
    "import re\n",
    "#Thư viện xử lý ngôn ngữ tự nhiên (Natural Language Tool )\n",
    "import nltk\n",
    "\n",
    "#Modul thực hiện việc đưa từ về dạng gốc (vd: beautiful -> beauti)\n",
    "from nltk.stem import WordNetLemmatizer\n",
    "\n",
    "#l chứa các từ dừng\n",
    "from nltk.corpus import stopwords\n",
    "\n",
    "#Modul để tách câu và tách từ\n",
    "from nltk.tokenize import sent_tokenize, word_tokenize"
   ]
  },
  {
   "cell_type": "markdown",
   "metadata": {
    "id": "OEt4nkPdCwIO"
   },
   "source": [
    "###**Tải các dữ liệu cần dùng từ thư viện nltk**"
   ]
  },
  {
   "cell_type": "code",
   "execution_count": null,
   "metadata": {
    "colab": {
     "base_uri": "https://localhost:8080/"
    },
    "id": "JmIwgDcTC1-0",
    "outputId": "2e4b408c-b33e-4b70-cc4f-6056a22ac709"
   },
   "outputs": [
    {
     "name": "stderr",
     "output_type": "stream",
     "text": [
      "[nltk_data] Downloading package punkt to /root/nltk_data...\n",
      "[nltk_data]   Unzipping tokenizers/punkt.zip.\n",
      "[nltk_data] Downloading package wordnet to /root/nltk_data...\n",
      "[nltk_data] Downloading package stopwords to /root/nltk_data...\n",
      "[nltk_data]   Unzipping corpora/stopwords.zip.\n"
     ]
    },
    {
     "data": {
      "text/plain": [
       "True"
      ]
     },
     "execution_count": 19,
     "metadata": {},
     "output_type": "execute_result"
    }
   ],
   "source": [
    "#Dữ liệu cho việc tokenization (tách câu,từ)\n",
    "nltk.download('punkt')\n",
    "#Từ điển ngôn ngữ Anh\n",
    "nltk.download('wordnet')\n",
    "#Danh sách các từ dừng\n",
    "nltk.download('stopwords')"
   ]
  },
  {
   "cell_type": "code",
   "execution_count": null,
   "metadata": {
    "id": "1rN6k--NDJN0"
   },
   "outputs": [],
   "source": [
    "#Chuyển đổi các từ viết tắt trong văn bản thành từ đầy đủ\n",
    "con_appos = {\n",
    "    \"rep\": \"represent\",\n",
    "    \"hoodie\": \"hooded sweatshirt\",\n",
    "    \"tee\": \"t-shirt\",\n",
    "    \"zip\": \"zip-up\",\n",
    "    \"maxi\": \"maxi dress\",\n",
    "    \"mini\": \"mini dress\",\n",
    "    \"midi\": \"midi dress\",\n",
    "    \"denim\": \"denim fabric\",\n",
    "    \"chino\": \"chino pants\",\n",
    "    \"cropped\": \"cropped length\",\n",
    "    \"floral\": \"floral print\",\n",
    "    \"striped\": \"striped pattern\",\n",
    "    \"polka\": \"polka dot\",\n",
    "    \"v-neck\": \"v-neckline\",\n",
    "    \"crew-neck\": \"crew neckline\",\n",
    "    \"slim\": \"slim fit\",\n",
    "    \"loose\": \"loose fit\",\n",
    "    \"bootcut\": \"bootcut style\",\n",
    "    \"skinny\": \"skinny fit\",\n",
    "    \"isn't\": \"is not\",\n",
    "    \"it'd\": \"it would\",\n",
    "    \"it'd've\": \"it would have\",\n",
    "    \"it'll\": \"it will\",\n",
    "    \"it'll've\": \"it will have\",\n",
    "    \"it's\": \"it is\",\n",
    "    \"mayn't\": \"may not\",\n",
    "    \"might've\": \"might have\",\n",
    "    \"mightn't\": \"might not\",\n",
    "    \"mightn't've\": \"might not have\",\n",
    "    \"must've\": \"must have\",\n",
    "    \"mustn't\": \"must not\",\n",
    "    \"mustn't've\": \"must not have\",\n",
    "    \"needn't\": \"need not\",\n",
    "    \"needn't've\": \"need not have\",\n",
    "    \"so've\": \"so have\",\n",
    "    \"so's\": \"so is\",\n",
    "    \"that'd\": \"that would\",\n",
    "    \"that'd've\": \"that would have\",\n",
    "    \"that's\": \"that is\",\n",
    "    \"there'd\": \"there would\",\n",
    "    \"there'd've\": \"there would have\",\n",
    "    \"there's\": \"there is\",\n",
    "    \"they'd\": \"they would\",\n",
    "    \"they'd've\": \"they would have\",\n",
    "    \"they'll\": \"they will\",\n",
    "    \"they'll've\": \"they will have\",\n",
    "    \"they're\": \"they are\",\n",
    "    \"they've\": \"they have\",\n",
    "    \"we're\": \"we are\",\n",
    "    \"to've\": \"to have\"\n",
    "}"
   ]
  },
  {
   "cell_type": "code",
   "execution_count": null,
   "metadata": {
    "id": "8INxRh3cDdyn"
   },
   "outputs": [],
   "source": [
    "def preprocessed_description(text):\n",
    "    #Chuyển đổi đầu vào là dạng văn bản\n",
    "    text = str(text)\n",
    "\n",
    "    #Chuyển văn bản thành chữ viết thường\n",
    "    text = text.lower()\n",
    "\n",
    "    #Chuyển từ viết tắt thành từ đầu đủ\n",
    "    pattern = re.compile(r'\\b(' + r'|'.join(con_appos.keys()) + r')\\b')\n",
    "    text = pattern.sub(lambda x: con_appos[x.group()], text)\n",
    "\n",
    "    #Xóa kí tự đặc biệt và số\n",
    "    text = re.sub(r'\\W', ' ', text)\n",
    "    text = re.sub(r'\\d+', ' ', text)\n",
    "\n",
    "    #Xóa thẻ HTML đính kèm\n",
    "    Tag_re = re.compile(r'<[^>]+>')\n",
    "    text  = Tag_re.sub(' ', text)\n",
    "\n",
    "    #Xóa khoảng trống thừa\n",
    "    text = re.sub(r'\\s+', ' ', text)\n",
    "\n",
    "    #Xóa từ dừng\n",
    "    stopwords_list = [word for word in stopwords.words('english') if word != 'not']\n",
    "    pattern = re.compile(r'\\b(' + r'|'.join(stopwords_list) + r')\\b\\s*')\n",
    "    text = pattern.sub('', text)\n",
    "\n",
    "    #Đưa từ về dạng nghĩa gốc\n",
    "    lemmatizer = WordNetLemmatizer()\n",
    "    text = ' '.join(lemmatizer.lemmatize(word) for word in nltk.word_tokenize(text))\n",
    "\n",
    "    return text"
   ]
  },
  {
   "cell_type": "code",
   "execution_count": null,
   "metadata": {
    "colab": {
     "base_uri": "https://localhost:8080/",
     "height": 70
    },
    "id": "Zre9U-lUGpYN",
    "outputId": "dd747fcc-d7e8-4089-dda7-f9e58c69f497"
   },
   "outputs": [
    {
     "data": {
      "application/vnd.google.colaboratory.intrinsic+json": {
       "type": "string"
      },
      "text/plain": [
       "'Color of product: Core Black / Cloud White / Cloud White. Classic sport sandals with a lightweight feel.The Adilette has been a favorite of beachgoers and poolside loungers since 1972. An embossed adidas Badge of Sport print on the soft bandage upper gives this version of the iconic slides a sporty feel. The contoured footbed delivers the stability the slides are famous for.'"
      ]
     },
     "execution_count": 22,
     "metadata": {},
     "output_type": "execute_result"
    }
   ],
   "source": [
    "#Trước khi xử lý\n",
    "df['description'][0]"
   ]
  },
  {
   "cell_type": "code",
   "execution_count": null,
   "metadata": {
    "id": "jjWvr14NGGz0"
   },
   "outputs": [],
   "source": [
    "#Áp dụng lên cột 'description'\n",
    "df['description'] = df['description'].apply(preprocessed_description)"
   ]
  },
  {
   "cell_type": "code",
   "execution_count": null,
   "metadata": {
    "colab": {
     "base_uri": "https://localhost:8080/",
     "height": 52
    },
    "id": "QpzhhjynGTJW",
    "outputId": "996c96b4-443a-4e4a-db3e-9cccc3c5132a"
   },
   "outputs": [
    {
     "data": {
      "application/vnd.google.colaboratory.intrinsic+json": {
       "type": "string"
      },
      "text/plain": [
       "'color product core black cloud white cloud white classic sport sandal lightweight feel adilette favorite beachgoers poolside lounger since embossed adidas badge sport print soft bandage upper give version iconic slide sporty feel contoured footbed delivers stability slide famous'"
      ]
     },
     "execution_count": 24,
     "metadata": {},
     "output_type": "execute_result"
    }
   ],
   "source": [
    "#Sau xử lý\n",
    "df['description'][0]"
   ]
  },
  {
   "cell_type": "markdown",
   "metadata": {
    "id": "EUi-rxjhHIpB"
   },
   "source": [
    "##**Tiền xử lý hình ảnh**\n",
    "\n"
   ]
  },
  {
   "cell_type": "code",
   "execution_count": null,
   "metadata": {
    "id": "T2GyYsyrGVZj"
   },
   "outputs": [],
   "source": [
    "import ast\n",
    "\n",
    "def convert_to_list(link_str):\n",
    "    try:\n",
    "        # Check if the link_str contains \"~\" delimiter\n",
    "        if \"~\" in link_str:\n",
    "            link_list = link_str.split(\"~\")\n",
    "        else:\n",
    "            # Convert the string representation of a list to an actual list\n",
    "            link_list = ast.literal_eval(link_str)\n",
    "\n",
    "        # Strip whitespaces around each link\n",
    "        return [link.strip() for link in link_list]\n",
    "    except (SyntaxError, ValueError):\n",
    "        print(f\"Error converting {link_str} to a list\")\n",
    "        return None"
   ]
  },
  {
   "cell_type": "code",
   "execution_count": null,
   "metadata": {
    "id": "fVbpy-okJVcT"
   },
   "outputs": [],
   "source": [
    "df['images'] = df['images'].apply(lambda x: convert_to_list(x))"
   ]
  },
  {
   "cell_type": "code",
   "execution_count": null,
   "metadata": {
    "id": "J_WEz_FWJXKe"
   },
   "outputs": [],
   "source": [
    "#Xóa các giá trị NA trong cột 'images'\n",
    "df = df.dropna(subset=['images'])"
   ]
  },
  {
   "cell_type": "code",
   "execution_count": null,
   "metadata": {
    "id": "p5NDQKU2JYsm"
   },
   "outputs": [],
   "source": [
    "#Lọc các URL hợp lệ\n",
    "def filter_invalid_urls(image_urls):\n",
    "\n",
    "    valid_urls = [url for url in image_urls if 'data:image' not in url]\n",
    "    return valid_urls\n",
    "\n",
    "#Áp dụng\n",
    "df['images'] = df['images'].apply(filter_invalid_urls)"
   ]
  },
  {
   "cell_type": "code",
   "execution_count": null,
   "metadata": {
    "id": "DVC8FjcuJbhG"
   },
   "outputs": [],
   "source": [
    "import concurrent.futures\n",
    "import requests\n",
    "\n",
    "def is_valid_url(url):\n",
    "    try:\n",
    "        # Kiểm tra xem URL có bắt đầu bằng giao thức hợp lệ hay không\n",
    "        if url.startswith(('http://', 'https://')):\n",
    "            # Kiểm tra xem URL có thể truy cập được không (status code 200)\n",
    "            response = requests.head(url, timeout=1)  # Thiết lập thời gian đợi\n",
    "            return response.status_code == 200\n",
    "        else:\n",
    "            # In thông báo lỗi nếu định dạng URL không hợp lệ\n",
    "            print(f\"Định dạng URL không hợp lệ: {url}\")\n",
    "            return False\n",
    "    except requests.RequestException as e:\n",
    "        # In thông báo lỗi nếu có ngoại lệ xảy ra trong quá trình kiểm tra URL\n",
    "        print(f\"Lỗi khi kiểm tra {url}: {e}\")\n",
    "        return False\n",
    "\n",
    "def filter_valid_urls(image_urls):\n",
    "    # Danh sách để lưu trữ các URL hợp lệ\n",
    "    valid_urls = []\n",
    "\n",
    "    # Định nghĩa hàm kiểm tra tính hợp lệ của URL\n",
    "    def check_url(url):\n",
    "        if is_valid_url(url):\n",
    "            # Nếu URL hợp lệ, thêm vào danh sách các URL hợp lệ\n",
    "            valid_urls.append(url)\n",
    "\n",
    "    # Sử dụng ThreadPoolExecutor để kiểm tra URL đồng thời\n",
    "    with concurrent.futures.ThreadPoolExecutor() as executor:\n",
    "        # Áp dụng hàm check_url cho từng URL một cách đồng thời\n",
    "        executor.map(check_url, image_urls)\n",
    "\n",
    "    # Trả về danh sách các URL hình ảnh hợp lệ\n",
    "    return valid_urls\n",
    "\n",
    "# Ví dụ sử dụng:\n",
    "# Áp dụng hàm filter_valid_urls cho cột 'images' trong DataFrame\n",
    "df['images'] = df['images'].apply(filter_valid_urls)\n"
   ]
  },
  {
   "cell_type": "code",
   "execution_count": null,
   "metadata": {
    "colab": {
     "base_uri": "https://localhost:8080/"
    },
    "id": "BfAJ3JnsJc_t",
    "outputId": "10701e5b-cbf4-4ff2-df6e-46d5dd7058ba"
   },
   "outputs": [
    {
     "data": {
      "text/plain": [
       "['https://assets.adidas.com/images/w_600,f_auto,q_auto/9178d78dec7f4fc7bfc6acb800b460f8_9366/Adilette_Comfort_Slides_Black_GV9735_01_standard.jpg',\n",
       " 'https://assets.adidas.com/images/w_600,f_auto,q_auto/aa391624f3f04f6c9555acb800b46d8d_9366/Adilette_Comfort_Slides_Black_GV9735_02_standard_hover.jpg',\n",
       " 'https://assets.adidas.com/images/w_600,f_auto,q_auto/a450f1abe935405582c0acb800b474af_9366/Adilette_Comfort_Slides_Black_GV9735_03_standard.jpg',\n",
       " 'https://assets.adidas.com/images/w_600,f_auto,q_auto/958637c0f4c44a75833eacb800b47bc4_9366/Adilette_Comfort_Slides_Black_GV9735_04_standard.jpg']"
      ]
     },
     "execution_count": 30,
     "metadata": {},
     "output_type": "execute_result"
    }
   ],
   "source": [
    "df['images'].iloc[0]"
   ]
  },
  {
   "cell_type": "markdown",
   "metadata": {
    "id": "qjS1nWIiJosO"
   },
   "source": [
    "#Model FashionClip\n"
   ]
  },
  {
   "cell_type": "markdown",
   "metadata": {
    "id": "yo-ctxiglGoq"
   },
   "source": [
    "##Cài đặt model"
   ]
  },
  {
   "cell_type": "code",
   "execution_count": null,
   "metadata": {
    "id": "80Si7O0tKA3h"
   },
   "outputs": [],
   "source": [
    "%%capture\n",
    "!pip install -U fashion-clip"
   ]
  },
  {
   "cell_type": "code",
   "execution_count": null,
   "metadata": {
    "id": "WvZLf2uJKKgO"
   },
   "outputs": [],
   "source": [
    "from fashion_clip.fashion_clip import FashionCLIP"
   ]
  },
  {
   "cell_type": "code",
   "execution_count": null,
   "metadata": {
    "id": "6LBbf8hRKAuy"
   },
   "outputs": [],
   "source": [
    "%%capture\n",
    "fclip = FashionCLIP('fashion-clip')"
   ]
  },
  {
   "cell_type": "markdown",
   "metadata": {
    "id": "SV-rnhhtvyXx"
   },
   "source": [
    "##Xử lý"
   ]
  },
  {
   "cell_type": "code",
   "execution_count": null,
   "metadata": {
    "colab": {
     "base_uri": "https://localhost:8080/",
     "height": 101,
     "referenced_widgets": [
      "c2175b869ac74d8dbd5ff7dfaede898f",
      "67e45669aac04f488e2fa9ac24f70715",
      "41a86ccad56c4827a040f66fafc2f8b2",
      "b140bea28bed4b8d98591de45a2b5ce7",
      "40c6d6b6d6f14540929f81186f9a6103",
      "13a28364aade4b56b146bda97e507162",
      "f997f6c739d648a3bd0c6cb05faf2bae",
      "95534b157bed4b79b479c502b066f020",
      "a47a23156ce34d22816c82cd03ac1d84",
      "01873975cc5549f1b944442227e430b4",
      "0582d832401345aa9b4186560a6377b2"
     ]
    },
    "id": "_LZqqZMzJfNu",
    "outputId": "9a36949f-e5cc-4c32-9c6b-988461c70b83"
   },
   "outputs": [
    {
     "name": "stderr",
     "output_type": "stream",
     "text": [
      " 29%|██▉       | 258/889 [1:10:51<2:53:18, 16.48s/it]\n",
      "890it [1:17:38,  5.23s/it]\n"
     ]
    },
    {
     "data": {
      "application/vnd.jupyter.widget-view+json": {
       "model_id": "c2175b869ac74d8dbd5ff7dfaede898f",
       "version_major": 2,
       "version_minor": 0
      },
      "text/plain": [
       "Map:   0%|          | 0/5918 [00:00<?, ? examples/s]"
      ]
     },
     "metadata": {},
     "output_type": "display_data"
    },
    {
     "name": "stderr",
     "output_type": "stream",
     "text": [
      "185it [07:53,  2.56s/it]\n"
     ]
    }
   ],
   "source": [
    "#Lấy danh sách URL hình ảnh từ cột 'images' của DataFrame:\n",
    "image_urls_list = df['images'].tolist()\n",
    "\n",
    "#Tạo danh sách chứa tất cả các URL hình ảnh:\n",
    "images = []\n",
    "for image_urls in image_urls_list:\n",
    "    images.extend(image_urls)\n",
    "\n",
    "#Lấy danh sách mô tả văn bản từ cột 'description' của DataFrame:\n",
    "texts = df['description'].tolist()\n",
    "\n",
    "#Tạo embeddings cho hình ảnh và văn bản mô tả\n",
    "image_embeddings = fclip.encode_images(images, batch_size=32)\n",
    "text_embeddings = fclip.encode_text(texts, batch_size=32)\n",
    "\n",
    "#Chuẩn hóa embeddings về đơn vị norm:(so that we can use dot product instead of cosine similarity to do comparisons)\n",
    "image_embeddings = image_embeddings / np.linalg.norm(image_embeddings, ord=2, axis=-1, keepdims=True)\n",
    "text_embeddings = text_embeddings / np.linalg.norm(text_embeddings, ord=2, axis=-1, keepdims=True)"
   ]
  },
  {
   "cell_type": "code",
   "execution_count": null,
   "metadata": {
    "id": "ZFrgQfyRJp-0"
   },
   "outputs": [],
   "source": [
    "import matplotlib.pyplot as plt\n",
    "\n",
    "def get_top_similar_images(text):\n",
    "    # Encode text to get text embedding\n",
    "    text_embedding = fclip.encode_text([text], batch_size=32)[0]\n",
    "\n",
    "    # Compute similarity scores between text embedding and image embeddings\n",
    "    similarity_scores = np.dot(text_embedding, image_embeddings.T)\n",
    "\n",
    "    # Sort the images based on similarity scores in descending order\n",
    "    sorted_indices = np.argsort(similarity_scores)[::-1]\n",
    "\n",
    "    # Retrieve the top K most similar image URLs\n",
    "    top_k = 5  # Number of top similar images to retrieve\n",
    "    top_similar_image_urls = [images[i] for i in sorted_indices[:top_k]]\n",
    "\n",
    "    # Create a dictionary with URLs and their corresponding similarity scores\n",
    "    top_similar_images_info = [{'url': url, 'similarity_score': similarity_scores[i]} for i, url in enumerate(top_similar_image_urls)]\n",
    "\n",
    "    # Plot the top 5 similar images\n",
    "    fig, axes = plt.subplots(1, top_k, figsize=(15, 5))\n",
    "\n",
    "    for i, image_url in enumerate(top_similar_image_urls):\n",
    "        response = requests.get(image_url)\n",
    "        image = Image.open(BytesIO(response.content))\n",
    "\n",
    "        axes[i].imshow(image)\n",
    "        axes[i].axis('off')\n",
    "        axes[i].set_title(f\"Score: {similarity_scores[sorted_indices[i]]:.2f}\")\n",
    "\n",
    "    plt.show()\n",
    "    df_top_similar = df[df['images'].apply(lambda x: any(link in x for link in top_similar_image_urls))]\n",
    "\n",
    "      # Get the URL and name information of products in top_similar_image_urls\n",
    "    result_urls = df_top_similar['url'].tolist()\n",
    "    result_names = df_top_similar['name'].tolist()\n",
    "\n",
    "# Display the results\n",
    "    for url, name in zip(result_urls, result_names):\n",
    "      print(f\"Name: {name}\\n URL: {url}\")\n",
    "    # Return the top similar image URLs along with their similarity scores"
   ]
  },
  {
   "cell_type": "code",
   "execution_count": null,
   "metadata": {
    "colab": {
     "base_uri": "https://localhost:8080/",
     "height": 477,
     "referenced_widgets": [
      "8d5b261494d6442aae8fd3f5bb442509",
      "e3c799be55154f4893147dd897c72fdd",
      "7fbb52648ea64e129d6f8ae95237565d",
      "84b48a91be344bf6ad08569bdd4f49ad",
      "c1affb0d5ce94b28a05277aa544b8225",
      "10ba77fcca0f4d8a90da327e1b63c4c5",
      "34dbef00fcfe43869d89961157840a8b",
      "c77263d4c67b44e3a97b98b287e5867a",
      "385815dea7fd4d8782a02f44275c76e6",
      "2a8f95ae1d554f0d82ead854d7de860e",
      "52c5e92202a14db5abf06c69370305ff"
     ]
    },
    "id": "RpDeDuHGJ4tQ",
    "outputId": "e897c58b-9644-410a-9f67-74584fe09118"
   },
   "outputs": [
    {
     "data": {
      "application/vnd.jupyter.widget-view+json": {
       "model_id": "8d5b261494d6442aae8fd3f5bb442509",
       "version_major": 2,
       "version_minor": 0
      },
      "text/plain": [
       "Map:   0%|          | 0/1 [00:00<?, ? examples/s]"
      ]
     },
     "metadata": {},
     "output_type": "display_data"
    },
    {
     "name": "stderr",
     "output_type": "stream",
     "text": [
      "1it [00:00,  4.30it/s]\n"
     ]
    },
    {
     "data": {
      "image/png": "[encoded data removed]",
      "text/plain": [
       "<Figure size 1500x500 with 5 Axes>"
      ]
     },
     "metadata": {},
     "output_type": "display_data"
    },
    {
     "name": "stdout",
     "output_type": "stream",
     "text": [
      "Name: Nike Revolution 7 EasyOn\n",
      " URL: https://www.nike.com/t/revolution-7-easyon-mens-road-running-shoes-Wsqj83/FQ4112-001\n",
      "Name: Own the Run 3-Stripes Shorts\n",
      " URL: https://www.adidas.com/us/own-the-run-3-stripes-shorts/IQ3814.html\n",
      "Name: Own the Run 3-Stripes Tee\n",
      " URL: https://www.adidas.com/us/own-the-run-3-stripes-tee/IQ3835.html\n",
      "Name: Ultimate Knit Tee\n",
      " URL: https://www.adidas.com/us/ultimate-knit-tee/IM1863.html\n",
      "Name: Own the Run adidas Runners Long Sleeve Tee (Gender Neutral)\n",
      " URL: https://www.adidas.com/us/own-the-run-adidas-runners-long-sleeve-tee-gender-neutral/IS5408.html\n"
     ]
    }
   ],
   "source": [
    "get_top_similar_images(\"running  shirt\")"
   ]
  },
  {
   "cell_type": "code",
   "execution_count": null,
   "metadata": {
    "id": "j5wpUFUrJZAB"
   },
   "outputs": [],
   "source": []
  }
 ],
 "metadata": {
  "colab": {
   "provenance": []
  },
  "kernelspec": {
   "display_name": "Python 3 (ipykernel)",
   "language": "python",
   "name": "python3"
  },
  "language_info": {
   "codemirror_mode": {
    "name": "ipython",
    "version": 3
   },
   "file_extension": ".py",
   "mimetype": "text/x-python",
   "name": "python",
   "nbconvert_exporter": "python",
   "pygments_lexer": "ipython3",
   "version": "3.10.9"
  },
  "widgets": {
   "application/vnd.jupyter.widget-state+json": {
    "01873975cc5549f1b944442227e430b4": {
     "model_module": "@jupyter-widgets/base",
     "model_module_version": "1.2.0",
     "model_name": "LayoutModel",
     "state": {
      "_model_module": "@jupyter-widgets/base",
      "_model_module_version": "1.2.0",
      "_model_name": "LayoutModel",
      "_view_count": null,
      "_view_module": "@jupyter-widgets/base",
      "_view_module_version": "1.2.0",
      "_view_name": "LayoutView",
      "align_content": null,
      "align_items": null,
      "align_self": null,
      "border": null,
      "bottom": null,
      "display": null,
      "flex": null,
      "flex_flow": null,
      "grid_area": null,
      "grid_auto_columns": null,
      "grid_auto_flow": null,
      "grid_auto_rows": null,
      "grid_column": null,
      "grid_gap": null,
      "grid_row": null,
      "grid_template_areas": null,
      "grid_template_columns": null,
      "grid_template_rows": null,
      "height": null,
      "justify_content": null,
      "justify_items": null,
      "left": null,
      "margin": null,
      "max_height": null,
      "max_width": null,
      "min_height": null,
      "min_width": null,
      "object_fit": null,
      "object_position": null,
      "order": null,
      "overflow": null,
      "overflow_x": null,
      "overflow_y": null,
      "padding": null,
      "right": null,
      "top": null,
      "visibility": null,
      "width": null
     }
    },
    "0582d832401345aa9b4186560a6377b2": {
     "model_module": "@jupyter-widgets/controls",
     "model_module_version": "1.5.0",
     "model_name": "DescriptionStyleModel",
     "state": {
      "_model_module": "@jupyter-widgets/controls",
      "_model_module_version": "1.5.0",
      "_model_name": "DescriptionStyleModel",
      "_view_count": null,
      "_view_module": "@jupyter-widgets/base",
      "_view_module_version": "1.2.0",
      "_view_name": "StyleView",
      "description_width": ""
     }
    },
    "10ba77fcca0f4d8a90da327e1b63c4c5": {
     "model_module": "@jupyter-widgets/base",
     "model_module_version": "1.2.0",
     "model_name": "LayoutModel",
     "state": {
      "_model_module": "@jupyter-widgets/base",
      "_model_module_version": "1.2.0",
      "_model_name": "LayoutModel",
      "_view_count": null,
      "_view_module": "@jupyter-widgets/base",
      "_view_module_version": "1.2.0",
      "_view_name": "LayoutView",
      "align_content": null,
      "align_items": null,
      "align_self": null,
      "border": null,
      "bottom": null,
      "display": null,
      "flex": null,
      "flex_flow": null,
      "grid_area": null,
      "grid_auto_columns": null,
      "grid_auto_flow": null,
      "grid_auto_rows": null,
      "grid_column": null,
      "grid_gap": null,
      "grid_row": null,
      "grid_template_areas": null,
      "grid_template_columns": null,
      "grid_template_rows": null,
      "height": null,
      "justify_content": null,
      "justify_items": null,
      "left": null,
      "margin": null,
      "max_height": null,
      "max_width": null,
      "min_height": null,
      "min_width": null,
      "object_fit": null,
      "object_position": null,
      "order": null,
      "overflow": null,
      "overflow_x": null,
      "overflow_y": null,
      "padding": null,
      "right": null,
      "top": null,
      "visibility": null,
      "width": null
     }
    },
    "13a28364aade4b56b146bda97e507162": {
     "model_module": "@jupyter-widgets/base",
     "model_module_version": "1.2.0",
     "model_name": "LayoutModel",
     "state": {
      "_model_module": "@jupyter-widgets/base",
      "_model_module_version": "1.2.0",
      "_model_name": "LayoutModel",
      "_view_count": null,
      "_view_module": "@jupyter-widgets/base",
      "_view_module_version": "1.2.0",
      "_view_name": "LayoutView",
      "align_content": null,
      "align_items": null,
      "align_self": null,
      "border": null,
      "bottom": null,
      "display": null,
      "flex": null,
      "flex_flow": null,
      "grid_area": null,
      "grid_auto_columns": null,
      "grid_auto_flow": null,
      "grid_auto_rows": null,
      "grid_column": null,
      "grid_gap": null,
      "grid_row": null,
      "grid_template_areas": null,
      "grid_template_columns": null,
      "grid_template_rows": null,
      "height": null,
      "justify_content": null,
      "justify_items": null,
      "left": null,
      "margin": null,
      "max_height": null,
      "max_width": null,
      "min_height": null,
      "min_width": null,
      "object_fit": null,
      "object_position": null,
      "order": null,
      "overflow": null,
      "overflow_x": null,
      "overflow_y": null,
      "padding": null,
      "right": null,
      "top": null,
      "visibility": null,
      "width": null
     }
    },
    "2a8f95ae1d554f0d82ead854d7de860e": {
     "model_module": "@jupyter-widgets/base",
     "model_module_version": "1.2.0",
     "model_name": "LayoutModel",
     "state": {
      "_model_module": "@jupyter-widgets/base",
      "_model_module_version": "1.2.0",
      "_model_name": "LayoutModel",
      "_view_count": null,
      "_view_module": "@jupyter-widgets/base",
      "_view_module_version": "1.2.0",
      "_view_name": "LayoutView",
      "align_content": null,
      "align_items": null,
      "align_self": null,
      "border": null,
      "bottom": null,
      "display": null,
      "flex": null,
      "flex_flow": null,
      "grid_area": null,
      "grid_auto_columns": null,
      "grid_auto_flow": null,
      "grid_auto_rows": null,
      "grid_column": null,
      "grid_gap": null,
      "grid_row": null,
      "grid_template_areas": null,
      "grid_template_columns": null,
      "grid_template_rows": null,
      "height": null,
      "justify_content": null,
      "justify_items": null,
      "left": null,
      "margin": null,
      "max_height": null,
      "max_width": null,
      "min_height": null,
      "min_width": null,
      "object_fit": null,
      "object_position": null,
      "order": null,
      "overflow": null,
      "overflow_x": null,
      "overflow_y": null,
      "padding": null,
      "right": null,
      "top": null,
      "visibility": null,
      "width": null
     }
    },
    "34dbef00fcfe43869d89961157840a8b": {
     "model_module": "@jupyter-widgets/controls",
     "model_module_version": "1.5.0",
     "model_name": "DescriptionStyleModel",
     "state": {
      "_model_module": "@jupyter-widgets/controls",
      "_model_module_version": "1.5.0",
      "_model_name": "DescriptionStyleModel",
      "_view_count": null,
      "_view_module": "@jupyter-widgets/base",
      "_view_module_version": "1.2.0",
      "_view_name": "StyleView",
      "description_width": ""
     }
    },
    "385815dea7fd4d8782a02f44275c76e6": {
     "model_module": "@jupyter-widgets/controls",
     "model_module_version": "1.5.0",
     "model_name": "ProgressStyleModel",
     "state": {
      "_model_module": "@jupyter-widgets/controls",
      "_model_module_version": "1.5.0",
      "_model_name": "ProgressStyleModel",
      "_view_count": null,
      "_view_module": "@jupyter-widgets/base",
      "_view_module_version": "1.2.0",
      "_view_name": "StyleView",
      "bar_color": null,
      "description_width": ""
     }
    },
    "40c6d6b6d6f14540929f81186f9a6103": {
     "model_module": "@jupyter-widgets/base",
     "model_module_version": "1.2.0",
     "model_name": "LayoutModel",
     "state": {
      "_model_module": "@jupyter-widgets/base",
      "_model_module_version": "1.2.0",
      "_model_name": "LayoutModel",
      "_view_count": null,
      "_view_module": "@jupyter-widgets/base",
      "_view_module_version": "1.2.0",
      "_view_name": "LayoutView",
      "align_content": null,
      "align_items": null,
      "align_self": null,
      "border": null,
      "bottom": null,
      "display": null,
      "flex": null,
      "flex_flow": null,
      "grid_area": null,
      "grid_auto_columns": null,
      "grid_auto_flow": null,
      "grid_auto_rows": null,
      "grid_column": null,
      "grid_gap": null,
      "grid_row": null,
      "grid_template_areas": null,
      "grid_template_columns": null,
      "grid_template_rows": null,
      "height": null,
      "justify_content": null,
      "justify_items": null,
      "left": null,
      "margin": null,
      "max_height": null,
      "max_width": null,
      "min_height": null,
      "min_width": null,
      "object_fit": null,
      "object_position": null,
      "order": null,
      "overflow": null,
      "overflow_x": null,
      "overflow_y": null,
      "padding": null,
      "right": null,
      "top": null,
      "visibility": null,
      "width": null
     }
    },
    "41a86ccad56c4827a040f66fafc2f8b2": {
     "model_module": "@jupyter-widgets/controls",
     "model_module_version": "1.5.0",
     "model_name": "FloatProgressModel",
     "state": {
      "_dom_classes": [],
      "_model_module": "@jupyter-widgets/controls",
      "_model_module_version": "1.5.0",
      "_model_name": "FloatProgressModel",
      "_view_count": null,
      "_view_module": "@jupyter-widgets/controls",
      "_view_module_version": "1.5.0",
      "_view_name": "ProgressView",
      "bar_style": "success",
      "description": "",
      "description_tooltip": null,
      "layout": "IPY_MODEL_95534b157bed4b79b479c502b066f020",
      "max": 5918,
      "min": 0,
      "orientation": "horizontal",
      "style": "IPY_MODEL_a47a23156ce34d22816c82cd03ac1d84",
      "value": 5918
     }
    },
    "52c5e92202a14db5abf06c69370305ff": {
     "model_module": "@jupyter-widgets/controls",
     "model_module_version": "1.5.0",
     "model_name": "DescriptionStyleModel",
     "state": {
      "_model_module": "@jupyter-widgets/controls",
      "_model_module_version": "1.5.0",
      "_model_name": "DescriptionStyleModel",
      "_view_count": null,
      "_view_module": "@jupyter-widgets/base",
      "_view_module_version": "1.2.0",
      "_view_name": "StyleView",
      "description_width": ""
     }
    },
    "67e45669aac04f488e2fa9ac24f70715": {
     "model_module": "@jupyter-widgets/controls",
     "model_module_version": "1.5.0",
     "model_name": "HTMLModel",
     "state": {
      "_dom_classes": [],
      "_model_module": "@jupyter-widgets/controls",
      "_model_module_version": "1.5.0",
      "_model_name": "HTMLModel",
      "_view_count": null,
      "_view_module": "@jupyter-widgets/controls",
      "_view_module_version": "1.5.0",
      "_view_name": "HTMLView",
      "description": "",
      "description_tooltip": null,
      "layout": "IPY_MODEL_13a28364aade4b56b146bda97e507162",
      "placeholder": "​",
      "style": "IPY_MODEL_f997f6c739d648a3bd0c6cb05faf2bae",
      "value": "Map: 100%"
     }
    },
    "7fbb52648ea64e129d6f8ae95237565d": {
     "model_module": "@jupyter-widgets/controls",
     "model_module_version": "1.5.0",
     "model_name": "FloatProgressModel",
     "state": {
      "_dom_classes": [],
      "_model_module": "@jupyter-widgets/controls",
      "_model_module_version": "1.5.0",
      "_model_name": "FloatProgressModel",
      "_view_count": null,
      "_view_module": "@jupyter-widgets/controls",
      "_view_module_version": "1.5.0",
      "_view_name": "ProgressView",
      "bar_style": "success",
      "description": "",
      "description_tooltip": null,
      "layout": "IPY_MODEL_c77263d4c67b44e3a97b98b287e5867a",
      "max": 1,
      "min": 0,
      "orientation": "horizontal",
      "style": "IPY_MODEL_385815dea7fd4d8782a02f44275c76e6",
      "value": 1
     }
    },
    "84b48a91be344bf6ad08569bdd4f49ad": {
     "model_module": "@jupyter-widgets/controls",
     "model_module_version": "1.5.0",
     "model_name": "HTMLModel",
     "state": {
      "_dom_classes": [],
      "_model_module": "@jupyter-widgets/controls",
      "_model_module_version": "1.5.0",
      "_model_name": "HTMLModel",
      "_view_count": null,
      "_view_module": "@jupyter-widgets/controls",
      "_view_module_version": "1.5.0",
      "_view_name": "HTMLView",
      "description": "",
      "description_tooltip": null,
      "layout": "IPY_MODEL_2a8f95ae1d554f0d82ead854d7de860e",
      "placeholder": "​",
      "style": "IPY_MODEL_52c5e92202a14db5abf06c69370305ff",
      "value": " 1/1 [00:00&lt;00:00, 10.67 examples/s]"
     }
    },
    "8d5b261494d6442aae8fd3f5bb442509": {
     "model_module": "@jupyter-widgets/controls",
     "model_module_version": "1.5.0",
     "model_name": "HBoxModel",
     "state": {
      "_dom_classes": [],
      "_model_module": "@jupyter-widgets/controls",
      "_model_module_version": "1.5.0",
      "_model_name": "HBoxModel",
      "_view_count": null,
      "_view_module": "@jupyter-widgets/controls",
      "_view_module_version": "1.5.0",
      "_view_name": "HBoxView",
      "box_style": "",
      "children": [
       "IPY_MODEL_e3c799be55154f4893147dd897c72fdd",
       "IPY_MODEL_7fbb52648ea64e129d6f8ae95237565d",
       "IPY_MODEL_84b48a91be344bf6ad08569bdd4f49ad"
      ],
      "layout": "IPY_MODEL_c1affb0d5ce94b28a05277aa544b8225"
     }
    },
    "95534b157bed4b79b479c502b066f020": {
     "model_module": "@jupyter-widgets/base",
     "model_module_version": "1.2.0",
     "model_name": "LayoutModel",
     "state": {
      "_model_module": "@jupyter-widgets/base",
      "_model_module_version": "1.2.0",
      "_model_name": "LayoutModel",
      "_view_count": null,
      "_view_module": "@jupyter-widgets/base",
      "_view_module_version": "1.2.0",
      "_view_name": "LayoutView",
      "align_content": null,
      "align_items": null,
      "align_self": null,
      "border": null,
      "bottom": null,
      "display": null,
      "flex": null,
      "flex_flow": null,
      "grid_area": null,
      "grid_auto_columns": null,
      "grid_auto_flow": null,
      "grid_auto_rows": null,
      "grid_column": null,
      "grid_gap": null,
      "grid_row": null,
      "grid_template_areas": null,
      "grid_template_columns": null,
      "grid_template_rows": null,
      "height": null,
      "justify_content": null,
      "justify_items": null,
      "left": null,
      "margin": null,
      "max_height": null,
      "max_width": null,
      "min_height": null,
      "min_width": null,
      "object_fit": null,
      "object_position": null,
      "order": null,
      "overflow": null,
      "overflow_x": null,
      "overflow_y": null,
      "padding": null,
      "right": null,
      "top": null,
      "visibility": null,
      "width": null
     }
    },
    "a47a23156ce34d22816c82cd03ac1d84": {
     "model_module": "@jupyter-widgets/controls",
     "model_module_version": "1.5.0",
     "model_name": "ProgressStyleModel",
     "state": {
      "_model_module": "@jupyter-widgets/controls",
      "_model_module_version": "1.5.0",
      "_model_name": "ProgressStyleModel",
      "_view_count": null,
      "_view_module": "@jupyter-widgets/base",
      "_view_module_version": "1.2.0",
      "_view_name": "StyleView",
      "bar_color": null,
      "description_width": ""
     }
    },
    "b140bea28bed4b8d98591de45a2b5ce7": {
     "model_module": "@jupyter-widgets/controls",
     "model_module_version": "1.5.0",
     "model_name": "HTMLModel",
     "state": {
      "_dom_classes": [],
      "_model_module": "@jupyter-widgets/controls",
      "_model_module_version": "1.5.0",
      "_model_name": "HTMLModel",
      "_view_count": null,
      "_view_module": "@jupyter-widgets/controls",
      "_view_module_version": "1.5.0",
      "_view_name": "HTMLView",
      "description": "",
      "description_tooltip": null,
      "layout": "IPY_MODEL_01873975cc5549f1b944442227e430b4",
      "placeholder": "​",
      "style": "IPY_MODEL_0582d832401345aa9b4186560a6377b2",
      "value": " 5918/5918 [00:01&lt;00:00, 4291.46 examples/s]"
     }
    },
    "c1affb0d5ce94b28a05277aa544b8225": {
     "model_module": "@jupyter-widgets/base",
     "model_module_version": "1.2.0",
     "model_name": "LayoutModel",
     "state": {
      "_model_module": "@jupyter-widgets/base",
      "_model_module_version": "1.2.0",
      "_model_name": "LayoutModel",
      "_view_count": null,
      "_view_module": "@jupyter-widgets/base",
      "_view_module_version": "1.2.0",
      "_view_name": "LayoutView",
      "align_content": null,
      "align_items": null,
      "align_self": null,
      "border": null,
      "bottom": null,
      "display": null,
      "flex": null,
      "flex_flow": null,
      "grid_area": null,
      "grid_auto_columns": null,
      "grid_auto_flow": null,
      "grid_auto_rows": null,
      "grid_column": null,
      "grid_gap": null,
      "grid_row": null,
      "grid_template_areas": null,
      "grid_template_columns": null,
      "grid_template_rows": null,
      "height": null,
      "justify_content": null,
      "justify_items": null,
      "left": null,
      "margin": null,
      "max_height": null,
      "max_width": null,
      "min_height": null,
      "min_width": null,
      "object_fit": null,
      "object_position": null,
      "order": null,
      "overflow": null,
      "overflow_x": null,
      "overflow_y": null,
      "padding": null,
      "right": null,
      "top": null,
      "visibility": null,
      "width": null
     }
    },
    "c2175b869ac74d8dbd5ff7dfaede898f": {
     "model_module": "@jupyter-widgets/controls",
     "model_module_version": "1.5.0",
     "model_name": "HBoxModel",
     "state": {
      "_dom_classes": [],
      "_model_module": "@jupyter-widgets/controls",
      "_model_module_version": "1.5.0",
      "_model_name": "HBoxModel",
      "_view_count": null,
      "_view_module": "@jupyter-widgets/controls",
      "_view_module_version": "1.5.0",
      "_view_name": "HBoxView",
      "box_style": "",
      "children": [
       "IPY_MODEL_67e45669aac04f488e2fa9ac24f70715",
       "IPY_MODEL_41a86ccad56c4827a040f66fafc2f8b2",
       "IPY_MODEL_b140bea28bed4b8d98591de45a2b5ce7"
      ],
      "layout": "IPY_MODEL_40c6d6b6d6f14540929f81186f9a6103"
     }
    },
    "c77263d4c67b44e3a97b98b287e5867a": {
     "model_module": "@jupyter-widgets/base",
     "model_module_version": "1.2.0",
     "model_name": "LayoutModel",
     "state": {
      "_model_module": "@jupyter-widgets/base",
      "_model_module_version": "1.2.0",
      "_model_name": "LayoutModel",
      "_view_count": null,
      "_view_module": "@jupyter-widgets/base",
      "_view_module_version": "1.2.0",
      "_view_name": "LayoutView",
      "align_content": null,
      "align_items": null,
      "align_self": null,
      "border": null,
      "bottom": null,
      "display": null,
      "flex": null,
      "flex_flow": null,
      "grid_area": null,
      "grid_auto_columns": null,
      "grid_auto_flow": null,
      "grid_auto_rows": null,
      "grid_column": null,
      "grid_gap": null,
      "grid_row": null,
      "grid_template_areas": null,
      "grid_template_columns": null,
      "grid_template_rows": null,
      "height": null,
      "justify_content": null,
      "justify_items": null,
      "left": null,
      "margin": null,
      "max_height": null,
      "max_width": null,
      "min_height": null,
      "min_width": null,
      "object_fit": null,
      "object_position": null,
      "order": null,
      "overflow": null,
      "overflow_x": null,
      "overflow_y": null,
      "padding": null,
      "right": null,
      "top": null,
      "visibility": null,
      "width": null
     }
    },
    "e3c799be55154f4893147dd897c72fdd": {
     "model_module": "@jupyter-widgets/controls",
     "model_module_version": "1.5.0",
     "model_name": "HTMLModel",
     "state": {
      "_dom_classes": [],
      "_model_module": "@jupyter-widgets/controls",
      "_model_module_version": "1.5.0",
      "_model_name": "HTMLModel",
      "_view_count": null,
      "_view_module": "@jupyter-widgets/controls",
      "_view_module_version": "1.5.0",
      "_view_name": "HTMLView",
      "description": "",
      "description_tooltip": null,
      "layout": "IPY_MODEL_10ba77fcca0f4d8a90da327e1b63c4c5",
      "placeholder": "​",
      "style": "IPY_MODEL_34dbef00fcfe43869d89961157840a8b",
      "value": "Map: 100%"
     }
    },
    "f997f6c739d648a3bd0c6cb05faf2bae": {
     "model_module": "@jupyter-widgets/controls",
     "model_module_version": "1.5.0",
     "model_name": "DescriptionStyleModel",
     "state": {
      "_model_module": "@jupyter-widgets/controls",
      "_model_module_version": "1.5.0",
      "_model_name": "DescriptionStyleModel",
      "_view_count": null,
      "_view_module": "@jupyter-widgets/base",
      "_view_module_version": "1.2.0",
      "_view_name": "StyleView",
      "description_width": ""
     }
    }
   }
  }
 },
 "nbformat": 4,
 "nbformat_minor": 1
}
